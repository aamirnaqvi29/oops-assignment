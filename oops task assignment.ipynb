{
 "cells": [
  {
   "cell_type": "markdown",
   "id": "134fd896-e572-4ebc-b18a-e90253496ac5",
   "metadata": {},
   "source": [
    "## Qustion number 1"
   ]
  },
  {
   "cell_type": "code",
   "execution_count": 35,
   "id": "09c0f884-2649-4600-b87b-2670086d9c3f",
   "metadata": {},
   "outputs": [],
   "source": [
    "class vehical:\n",
    "    def __init__(self , name_of_vehical , max_speed , average_of_vehical):\n",
    "        self.name_of_vehical = name_of_vehical\n",
    "        self.max_speed = max_speed\n",
    "        self.average_of_vehcial = average_of_vehical\n",
    "        \n",
    "        "
   ]
  },
  {
   "cell_type": "code",
   "execution_count": 36,
   "id": "1f708c3e-9830-4757-8f0d-f3d020e76d5e",
   "metadata": {},
   "outputs": [],
   "source": [
    "v1 = vehical(\"tata safari\",220,25)"
   ]
  },
  {
   "cell_type": "code",
   "execution_count": 37,
   "id": "2a5e3107-db3a-46f3-94e3-66fe7669fd7f",
   "metadata": {},
   "outputs": [
    {
     "data": {
      "text/plain": [
       "25"
      ]
     },
     "execution_count": 37,
     "metadata": {},
     "output_type": "execute_result"
    }
   ],
   "source": [
    "v1.average_of_vehcial"
   ]
  },
  {
   "cell_type": "code",
   "execution_count": 38,
   "id": "078d6840-aac8-466a-89e2-5678251419b6",
   "metadata": {},
   "outputs": [
    {
     "data": {
      "text/plain": [
       "220"
      ]
     },
     "execution_count": 38,
     "metadata": {},
     "output_type": "execute_result"
    }
   ],
   "source": [
    "v1.max_speed\n",
    "    "
   ]
  },
  {
   "cell_type": "code",
   "execution_count": 39,
   "id": "eec70358-388c-407d-89c3-93e930dcd590",
   "metadata": {},
   "outputs": [
    {
     "data": {
      "text/plain": [
       "'tata safari'"
      ]
     },
     "execution_count": 39,
     "metadata": {},
     "output_type": "execute_result"
    }
   ],
   "source": [
    "v1.name_of_vehical"
   ]
  },
  {
   "cell_type": "markdown",
   "id": "ccaa8502-a4e7-430b-8196-f9be38df5af7",
   "metadata": {},
   "source": [
    "## Question no 2"
   ]
  },
  {
   "cell_type": "code",
   "execution_count": 46,
   "id": "74cf3230-1ee4-4660-a875-2edb3faa8918",
   "metadata": {},
   "outputs": [],
   "source": [
    "class car(vehical):\n",
    "    def __init__(self,seating_capacity):\n",
    "        self.seating_capacity = seating_capacity\n",
    "        \n",
    "        \n",
    "         "
   ]
  },
  {
   "cell_type": "code",
   "execution_count": 47,
   "id": "c05bd2b0-3310-4fc7-bfa6-ce81c4c34bcf",
   "metadata": {},
   "outputs": [],
   "source": [
    "v2 = car(7)"
   ]
  },
  {
   "cell_type": "code",
   "execution_count": 48,
   "id": "046d8dc3-1476-4f05-a705-e319720f23d7",
   "metadata": {},
   "outputs": [
    {
     "data": {
      "text/plain": [
       "7"
      ]
     },
     "execution_count": 48,
     "metadata": {},
     "output_type": "execute_result"
    }
   ],
   "source": [
    "v2.seating_capacity\n"
   ]
  },
  {
   "cell_type": "markdown",
   "id": "fe58b8e3-9450-413a-a319-96bb3412c8e8",
   "metadata": {},
   "source": [
    "## Question 3"
   ]
  },
  {
   "cell_type": "markdown",
   "id": "11811f66-6d66-4b94-a9ba-8b9f2d1a5b78",
   "metadata": {},
   "source": [
    "\n",
    "#### *When a class is derived from more than one base class it is called multiple Inheritance"
   ]
  },
  {
   "cell_type": "markdown",
   "id": "dfa5d362-c9d2-4ec5-b784-f76bd347d9d1",
   "metadata": {},
   "source": [
    "## Python code for multiple inhertance"
   ]
  },
  {
   "cell_type": "code",
   "execution_count": 56,
   "id": "6912351d-c717-467d-b809-15b183c67852",
   "metadata": {},
   "outputs": [],
   "source": [
    "class class1:\n",
    "    def test_class1(self):\n",
    "        print(\"this is my class1\")\n",
    "        "
   ]
  },
  {
   "cell_type": "code",
   "execution_count": 55,
   "id": "bfe310ea-2595-4384-82cd-ef809fadae98",
   "metadata": {},
   "outputs": [],
   "source": [
    "class class2(class1):\n",
    "    def test_class2(self):\n",
    "        print(\"this my class2\")"
   ]
  },
  {
   "cell_type": "code",
   "execution_count": 54,
   "id": "4bba5090-2836-431d-b8ed-c91853d5946e",
   "metadata": {},
   "outputs": [],
   "source": [
    "class class3:\n",
    "    def test_class3(self):\n",
    "        print(\"thi is my class3\")\n",
    "        "
   ]
  },
  {
   "cell_type": "markdown",
   "id": "dcfa6379-9d82-4e03-84be-3663443efc7b",
   "metadata": {},
   "source": [
    "## Question 3"
   ]
  },
  {
   "cell_type": "markdown",
   "id": "6ed32319-b887-4478-a84f-887eebee9f70",
   "metadata": {},
   "source": [
    "####  *Getter: A method that allows you to access an attribute in a given class."
   ]
  },
  {
   "cell_type": "markdown",
   "id": "a3fde36d-f3f7-4838-9285-53ab9e8da0c7",
   "metadata": {},
   "source": [
    "#### *Setter: A method that allows you to set or mutate the value of an attribute in a class."
   ]
  },
  {
   "cell_type": "markdown",
   "id": "e90e3f72-886a-4a51-9550-04e882a584fc",
   "metadata": {},
   "source": [
    "## Python code for Getter and Setter"
   ]
  },
  {
   "cell_type": "code",
   "execution_count": 72,
   "id": "b48c4500-ee64-4097-9e53-bc5eeb91fc9e",
   "metadata": {},
   "outputs": [],
   "source": [
    "class showroom:\n",
    "    def __init__(self , name_of_showroom , brand_of_showroom, price_of_cars):\n",
    "        self.name_of_showroom = name_of_showroom\n",
    "        self.brand_of_showroom = brand_of_showroom\n",
    "        self.price_of_cars = price_of_cars\n",
    "        \n",
    "    @price_of_cars.setter\n",
    "    def price_of_cars(self , price):\n",
    "        if price <= 20000:\n",
    "            pass\n",
    "        else:\n",
    "            self.price_of_cars = price\n",
    "        \n",
    "    \n",
    "    @price_of_cars.getter\n",
    "    def price_of_cars(self):\n",
    "        return self.price_of_cars\n",
    "    \n",
    "    \n",
    "        \n",
    "  "
   ]
  },
  {
   "cell_type": "markdown",
   "id": "2b316157-ae29-485e-827e-ec82cfaae2aa",
   "metadata": {},
   "source": [
    "## Question 5"
   ]
  },
  {
   "cell_type": "markdown",
   "id": "fca99162-8ff1-4fae-aed8-60d2afaeea6b",
   "metadata": {},
   "source": [
    "#### *Method overriding is a feature of object-oriented programming languages where the subclass or child class can provide the program with specific characteristics or a specific implementation process of data provided that are already defined in the parent class or superclass."
   ]
  },
  {
   "cell_type": "markdown",
   "id": "cc162d4b-8ebb-478f-84a8-21cccfbc952f",
   "metadata": {},
   "source": [
    "## Python code"
   ]
  },
  {
   "cell_type": "code",
   "execution_count": 21,
   "id": "5e1fc665-d451-4a65-91ad-3f3836cd4785",
   "metadata": {},
   "outputs": [],
   "source": [
    "class company:\n",
    "    \n",
    "    maneger_name = \"mohan\"\n",
    "        \n",
    "    def __init__(self,company_name,company_owner_name,company_turn_over):\n",
    "        self.company_name = company_name\n",
    "        self.company_owner_name = company_owner_name\n",
    "        self.__company_turn_over = company_turn_over\n",
    "        \n",
    "    @classmethod\n",
    "    def change_maneger_name(cls,maneger):\n",
    "        company.manager_name = manager\n",
    "        \n",
    "        \n",
    "        \n",
    "    \n",
    "        "
   ]
  },
  {
   "cell_type": "code",
   "execution_count": null,
   "id": "6ddc344d-3de7-41db-9a4f-ef7f0951954e",
   "metadata": {},
   "outputs": [],
   "source": []
  },
  {
   "cell_type": "code",
   "execution_count": null,
   "id": "bf3cce01-580e-40e7-a7dd-f1c3f905a547",
   "metadata": {},
   "outputs": [],
   "source": []
  },
  {
   "cell_type": "code",
   "execution_count": null,
   "id": "77ce9188-398d-4b4f-b144-7d41b643d06b",
   "metadata": {},
   "outputs": [],
   "source": []
  },
  {
   "cell_type": "code",
   "execution_count": null,
   "id": "b8ed12ed-6bea-4b70-8e6b-a3e7b3368d55",
   "metadata": {},
   "outputs": [],
   "source": []
  },
  {
   "cell_type": "code",
   "execution_count": null,
   "id": "35fcfede-498c-4fa5-8cea-29b989c0e880",
   "metadata": {},
   "outputs": [],
   "source": []
  }
 ],
 "metadata": {
  "kernelspec": {
   "display_name": "Python 3 (ipykernel)",
   "language": "python",
   "name": "python3"
  },
  "language_info": {
   "codemirror_mode": {
    "name": "ipython",
    "version": 3
   },
   "file_extension": ".py",
   "mimetype": "text/x-python",
   "name": "python",
   "nbconvert_exporter": "python",
   "pygments_lexer": "ipython3",
   "version": "3.10.8"
  }
 },
 "nbformat": 4,
 "nbformat_minor": 5
}
